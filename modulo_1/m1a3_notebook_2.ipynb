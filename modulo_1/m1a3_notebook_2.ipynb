{
 "cells": [
  {
   "cell_type": "markdown",
   "metadata": {},
   "source": [
    "# Exercício\n",
    "\n",
    "Verifique a qual faixa etária abaixo a candidata se enquadra e insira seu nome na lista:\n",
    "\n",
    "* 18-24 anos\n",
    "* 25-34 anos\n",
    "* 35-44 anos\n",
    "* 45-54 anos\n",
    "* 55-64 anos\n",
    "* acima 64 anos\n",
    "\n",
    "Fonte dos dados: [TSE. Candidaturas de PE em 2020](https://www.tse.jus.br/eleicoes/estatisticas/repositorio-de-dados-eleitorais-1)"
   ]
  },
  {
   "cell_type": "code",
   "execution_count": 1,
   "metadata": {},
   "outputs": [],
   "source": [
    "candidatura = {'DT_GERACAO': '22/05/2021',\n",
    "  'HH_GERACAO': '12:18:46',\n",
    "  'ANO_ELEICAO': 2020,\n",
    "  'CD_TIPO_ELEICAO': 2,\n",
    "  'NM_TIPO_ELEICAO': 'ELEIÇÃO ORDINÁRIA',\n",
    "  'NR_TURNO': 1,\n",
    "  'CD_ELEICAO': 426,\n",
    "  'DS_ELEICAO': 'Eleições Municipais 2020',\n",
    "  'DT_ELEICAO': '15/11/2020',\n",
    "  'TP_ABRANGENCIA': 'MUNICIPAL',\n",
    "  'SG_UF': 'PE',\n",
    "  'SG_UE': 25216,\n",
    "  'NM_UE': 'PETROLINA',\n",
    "  'CD_CARGO': 13,\n",
    "  'DS_CARGO': 'VEREADOR',\n",
    "  'SQ_CANDIDATO': 170000824939,\n",
    "  'NR_CANDIDATO': 25100,\n",
    "  'NM_CANDIDATO': 'DANIELA TAMARA SANTOS SILVA',\n",
    "  'NM_URNA_CANDIDATO': 'DANI PLUS',\n",
    "  'NM_SOCIAL_CANDIDATO': '#NULO#',\n",
    "  'NR_CPF_CANDIDATO': 4670632493,\n",
    "  'NM_EMAIL': 'DANIELE.SEDESDH@GMAIL.COM',\n",
    "  'CD_SITUACAO_CANDIDATURA': 12,\n",
    "  'DS_SITUACAO_CANDIDATURA': 'APTO',\n",
    "  'CD_DETALHE_SITUACAO_CAND': 2,\n",
    "  'DS_DETALHE_SITUACAO_CAND': 'DEFERIDO',\n",
    "  'TP_AGREMIACAO': 'PARTIDO ISOLADO',\n",
    "  'NR_PARTIDO': 25,\n",
    "  'SG_PARTIDO': 'DEM',\n",
    "  'NM_PARTIDO': 'DEMOCRATAS',\n",
    "  'SQ_COLIGACAO': 170000086526,\n",
    "  'NM_COLIGACAO': 'PARTIDO ISOLADO',\n",
    "  'DS_COMPOSICAO_COLIGACAO': 'DEM',\n",
    "  'CD_NACIONALIDADE': 1,\n",
    "  'DS_NACIONALIDADE': 'BRASILEIRA NATA',\n",
    "  'SG_UF_NASCIMENTO': 'BA',\n",
    "  'CD_MUNICIPIO_NASCIMENTO': -3,\n",
    "  'NM_MUNICIPIO_NASCIMENTO': 'JUAZEIRO',\n",
    "  'DT_NASCIMENTO': '01/05/1981',\n",
    "  'NR_IDADE_DATA_POSSE': 39,\n",
    "  'NR_TITULO_ELEITORAL_CANDIDATO': 53652250884,\n",
    "  'CD_GENERO': 4,\n",
    "  'DS_GENERO': 'FEMININO',\n",
    "  'CD_GRAU_INSTRUCAO': 7,\n",
    "  'DS_GRAU_INSTRUCAO': 'SUPERIOR INCOMPLETO',\n",
    "  'CD_ESTADO_CIVIL': 1,\n",
    "  'DS_ESTADO_CIVIL': 'SOLTEIRO(A)',\n",
    "  'CD_COR_RACA': 2,\n",
    "  'DS_COR_RACA': 'PRETA',\n",
    "  'CD_OCUPACAO': 931,\n",
    "  'DS_OCUPACAO': 'ESTUDANTE, BOLSISTA, ESTAGIÁRIO E ASSEMELHADOS',\n",
    "  'VR_DESPESA_MAX_CAMPANHA': 131218.52,\n",
    "  'CD_SIT_TOT_TURNO': 5,\n",
    "  'DS_SIT_TOT_TURNO': 'SUPLENTE',\n",
    "  'ST_REELEICAO': 'N',\n",
    "  'ST_DECLARAR_BENS': 'N',\n",
    "  'NR_PROTOCOLO_CANDIDATURA': -1,\n",
    "  'NR_PROCESSO': 6002695420206170083,\n",
    "  'CD_SITUACAO_CANDIDATO_PLEITO': 2,\n",
    "  'DS_SITUACAO_CANDIDATO_PLEITO': 'DEFERIDO',\n",
    "  'CD_SITUACAO_CANDIDATO_URNA': 2,\n",
    "  'DS_SITUACAO_CANDIDATO_URNA': 'DEFERIDO',\n",
    "  'ST_CANDIDATO_INSERIDO_URNA': 'SIM'}"
   ]
  },
  {
   "cell_type": "code",
   "execution_count": 2,
   "metadata": {},
   "outputs": [],
   "source": [
    "anos_18_24 = []\n",
    "anos_25_34 = []\n",
    "anos_35_44 = []\n",
    "anos_45_54 = []\n",
    "anos_55_64 = []\n",
    "anos_acima_64 = []"
   ]
  },
  {
   "cell_type": "code",
   "execution_count": 3,
   "metadata": {},
   "outputs": [],
   "source": [
    "if candidatura['NR_IDADE_DATA_POSSE'] >= 18 and candidatura['NR_IDADE_DATA_POSSE'] <= 24:\n",
    "    anos_18_24.append(candidatura['NM_CANDIDATO'])\n",
    "elif candidatura['NR_IDADE_DATA_POSSE'] >= 25 and candidatura['NR_IDADE_DATA_POSSE'] <= 34:\n",
    "    anos_25_34.append(candidatura['NM_CANDIDATO'])\n",
    "elif candidatura['NR_IDADE_DATA_POSSE'] >= 35 and candidatura['NR_IDADE_DATA_POSSE'] <= 44:\n",
    "    anos_35_44.append(candidatura['NM_CANDIDATO'])\n",
    "elif candidatura['NR_IDADE_DATA_POSSE'] >= 45 and candidatura['NR_IDADE_DATA_POSSE'] <= 54:\n",
    "    anos_45_54.append(candidatura['NM_CANDIDATO'])\n",
    "elif candidatura['NR_IDADE_DATA_POSSE'] >= 55 and candidatura['NR_IDADE_DATA_POSSE'] <= 64:\n",
    "    anos_55_64.append(candidatura['NM_CANDIDATO'])\n",
    "else:\n",
    "    anos_acima_64.append(candidatura['NM_CANDIDATO'])"
   ]
  },
  {
   "cell_type": "code",
   "execution_count": 4,
   "metadata": {},
   "outputs": [
    {
     "name": "stdout",
     "output_type": "stream",
     "text": [
      "Candidaturas por feixa etária:\n",
      "18-24 anos: []\n",
      "25-34 anos: []\n",
      "35-44 anos: ['DANIELA TAMARA SANTOS SILVA']\n",
      "45-54 anos: []\n",
      "55-64 anos: []\n",
      "acima 64 anos: []\n"
     ]
    }
   ],
   "source": [
    "print(f'Candidaturas por faixa etária:')\n",
    "print(f'18-24 anos: {anos_18_24}')\n",
    "print(f'25-34 anos: {anos_25_34}')\n",
    "print(f'35-44 anos: {anos_35_44}')\n",
    "print(f'45-54 anos: {anos_45_54}')\n",
    "print(f'55-64 anos: {anos_55_64}')\n",
    "print(f'acima 64 anos: {anos_acima_64}')"
   ]
  }
 ],
 "metadata": {
  "kernelspec": {
   "display_name": "Python 3",
   "language": "python",
   "name": "python3"
  },
  "language_info": {
   "codemirror_mode": {
    "name": "ipython",
    "version": 3
   },
   "file_extension": ".py",
   "mimetype": "text/x-python",
   "name": "python",
   "nbconvert_exporter": "python",
   "pygments_lexer": "ipython3",
   "version": "3.8.10"
  }
 },
 "nbformat": 4,
 "nbformat_minor": 4
}
