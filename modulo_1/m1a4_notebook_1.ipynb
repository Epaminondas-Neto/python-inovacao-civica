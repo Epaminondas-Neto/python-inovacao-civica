{
 "cells": [
  {
   "cell_type": "markdown",
   "metadata": {},
   "source": [
    "# Exercício (com for):\n",
    "\n",
    "Classifique o partido em um dos seguintes grupos:\n",
    "\n",
    "* Partidos que suas siglas iniciem com a letra P \n",
    "* Partidos que iniciem com outra letra.\n",
    "\n",
    "Fonte dos dados: [TSE. Candidaturas de PE em 2020](https://www.tse.jus.br/eleicoes/estatisticas/repositorio-de-dados-eleitorais-1)"
   ]
  },
  {
   "cell_type": "code",
   "execution_count": 7,
   "metadata": {},
   "outputs": [],
   "source": [
    "sg_partido = ['DEM', 'DC', 'PTB', 'REPUBLICANOS', 'PSL', 'PC do B', 'PTC',\n",
    "       'CIDADANIA', 'PSOL', 'MDB', 'PT', 'PSB', 'AVANTE', 'PATRIOTA',\n",
    "       'PSD', 'PDT', 'PRTB', 'PL', 'REDE', 'PODE', 'PSDB', 'PMN', 'PP',\n",
    "       'PSC', 'SOLIDARIEDADE', 'PROS', 'PV', 'PCB', 'PMB', 'UP', 'NOVO',\n",
    "       'PCO', 'PSTU']"
   ]
  },
  {
   "cell_type": "code",
   "execution_count": 8,
   "metadata": {},
   "outputs": [],
   "source": [
    "sg_partido_letra_p = []\n",
    "sg_partido_letra_nao_definida = []"
   ]
  },
  {
   "cell_type": "code",
   "execution_count": 9,
   "metadata": {},
   "outputs": [
    {
     "name": "stdout",
     "output_type": "stream",
     "text": [
      "Atividade concluída\n"
     ]
    }
   ],
   "source": [
    "for sigla in sg_partido:\n",
    "\n",
    "    if sigla[0] == 'P':\n",
    "        sg_partido_letra_p.append(sigla)    \n",
    "    else:\n",
    "        sg_partido_letra_nao_definida.append(sigla)\n",
    "else:\n",
    "    print('Atividade concluída')"
   ]
  },
  {
   "cell_type": "code",
   "execution_count": 10,
   "metadata": {},
   "outputs": [
    {
     "name": "stdout",
     "output_type": "stream",
     "text": [
      "Os partidos cujas as siglas iniciam com a letra P são: ['PTB', 'PSL', 'PC do B', 'PTC', 'PSOL', 'PT', 'PSB', 'PATRIOTA', 'PSD', 'PDT', 'PRTB', 'PL', 'PODE', 'PSDB', 'PMN', 'PP', 'PSC', 'PROS', 'PV', 'PCB', 'PMB', 'PCO', 'PSTU'].\n"
     ]
    }
   ],
   "source": [
    "print(f'Os partidos cujas as siglas iniciam com a letra P são: {sg_partido_letra_p}.')"
   ]
  },
  {
   "cell_type": "code",
   "execution_count": 11,
   "metadata": {},
   "outputs": [
    {
     "name": "stdout",
     "output_type": "stream",
     "text": [
      "Os partidos cujas as siglas não iniciam com a letra P são: ['DEM', 'DC', 'REPUBLICANOS', 'CIDADANIA', 'MDB', 'AVANTE', 'REDE', 'SOLIDARIEDADE', 'UP', 'NOVO'].\n"
     ]
    }
   ],
   "source": [
    "print(f'Os partidos cujas as siglas não iniciam com a letra P são: {sg_partido_letra_nao_definida}.')"
   ]
  }
 ],
 "metadata": {
  "kernelspec": {
   "display_name": "Python 3",
   "language": "python",
   "name": "python3"
  },
  "language_info": {
   "codemirror_mode": {
    "name": "ipython",
    "version": 3
   },
   "file_extension": ".py",
   "mimetype": "text/x-python",
   "name": "python",
   "nbconvert_exporter": "python",
   "pygments_lexer": "ipython3",
   "version": "3.8.10"
  }
 },
 "nbformat": 4,
 "nbformat_minor": 4
}
