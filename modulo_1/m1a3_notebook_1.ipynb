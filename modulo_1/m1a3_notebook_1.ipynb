{
 "cells": [
  {
   "cell_type": "markdown",
   "metadata": {},
   "source": [
    "# Exercício\n",
    "\n",
    "Classifique o partido em um dos seguintes grupos:\n",
    "\n",
    "* Partidos que suas siglas iniciem com a letra P \n",
    "* Partidos que iniciem com outra letra.\n",
    "\n",
    "Fonte dos dados: [TSE. Candidaturas de PE em 2020](https://www.tse.jus.br/eleicoes/estatisticas/repositorio-de-dados-eleitorais-1)"
   ]
  },
  {
   "cell_type": "code",
   "execution_count": 1,
   "metadata": {},
   "outputs": [],
   "source": [
    "sg_partido = ['PSOL']"
   ]
  },
  {
   "cell_type": "code",
   "execution_count": 2,
   "metadata": {},
   "outputs": [],
   "source": [
    "sg_partido_letra_p = []\n",
    "sg_partido_letra_nao_definida = []"
   ]
  },
  {
   "cell_type": "code",
   "execution_count": 3,
   "metadata": {},
   "outputs": [],
   "source": [
    "if sg_partido[0][0] == 'P':\n",
    "    sg_partido_letra_p.append(sg_partido[0])    \n",
    "else:\n",
    "    sg_partido_letra_nao_definida.append(sg_partido[0])"
   ]
  },
  {
   "cell_type": "code",
   "execution_count": 4,
   "metadata": {},
   "outputs": [
    {
     "name": "stdout",
     "output_type": "stream",
     "text": [
      "Os partidos cujas as siglas iniciam com a letra P são: ['PSOL'].\n",
      "Os partidos cujas as siglas não iniciam com a letra P são: [].\n"
     ]
    }
   ],
   "source": [
    "print(f'Os partidos cujas as siglas iniciam com a letra P são: {sg_partido_letra_p}.')\n",
    "print(f'Os partidos cujas as siglas não iniciam com a letra P são: {sg_partido_letra_nao_definida}.')"
   ]
  }
 ],
 "metadata": {
  "kernelspec": {
   "display_name": "Python 3",
   "language": "python",
   "name": "python3"
  },
  "language_info": {
   "codemirror_mode": {
    "name": "ipython",
    "version": 3
   },
   "file_extension": ".py",
   "mimetype": "text/x-python",
   "name": "python",
   "nbconvert_exporter": "python",
   "pygments_lexer": "ipython3",
   "version": "3.8.10"
  }
 },
 "nbformat": 4,
 "nbformat_minor": 4
}
